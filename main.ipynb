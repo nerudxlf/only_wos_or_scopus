{
  "nbformat": 4,
  "nbformat_minor": 0,
  "metadata": {
    "colab": {
      "name": "main.ipynb",
      "provenance": [],
      "authorship_tag": "ABX9TyMI5dCnbbk8cjTmTZ0KBka2",
      "include_colab_link": true
    },
    "kernelspec": {
      "name": "python3",
      "display_name": "Python 3"
    }
  },
  "cells": [
    {
      "cell_type": "markdown",
      "metadata": {
        "id": "view-in-github",
        "colab_type": "text"
      },
      "source": [
        "<a href=\"https://colab.research.google.com/github/nerudxlf/only_wos_or_scopus/blob/main/main.ipynb\" target=\"_parent\"><img src=\"https://colab.research.google.com/assets/colab-badge.svg\" alt=\"Open In Colab\"/></a>"
      ]
    },
    {
      "cell_type": "code",
      "metadata": {
        "id": "6pdmBEU2Zp2t"
      },
      "source": [
        "import re\r\n",
        "import pandas as pd\r\n",
        "\r\n",
        "from google.colab import files\r\n",
        "\r\n",
        "files.upload()"
      ],
      "execution_count": null,
      "outputs": []
    },
    {
      "cell_type": "code",
      "metadata": {
        "id": "krawjzIJaHoK"
      },
      "source": [
        "global result_full_data\r\n",
        "choice = 2  # Если Scopus то установить в 0, если WoS то в 1, если и WoS и Scopus то 3\r\n",
        "\r\n",
        "wos_data = pd.read_excel(\"AllPublin2020.xls\")\r\n",
        "scopus_data = pd.read_csv(\"ExpotrScopus.csv\")\r\n",
        "if choice == 1 or choice == 2:\r\n",
        "  wos_data_filter = wos_data.filter(items=['Article Title'])\r\n",
        "  scopus_data_filter = scopus_data.filter(items=[' Title'])\r\n",
        "  wos_data_filter['KEY'] = wos_data_filter.apply(\r\n",
        "      lambda x: re.compile('\\W').sub('', x.get(\"Article Title\")).upper(), axis=1)\r\n",
        "  scopus_data_filter['KEY'] = scopus_data_filter.apply(\r\n",
        "      lambda x: re.compile('\\W').sub('', x.get(\" Title\")).upper(), axis=1)\r\n",
        "  wos_data_filter_key = wos_data_filter.filter(items=['KEY'])\r\n",
        "  scopus_data_filter_key = scopus_data_filter.filter(items=['KEY'])\r\n",
        "  result_wos_scopus = pd.concat([wos_data_filter_key, scopus_data_filter_key])\r\n",
        "  result_wos_scopus = result_wos_scopus.loc[result_wos_scopus.duplicated(keep=False), :]\r\n",
        "  if choice == 1:\r\n",
        "    concat_data = pd.concat([wos_data_filter_key, result_wos_scopus])\r\n",
        "    result_data_key = concat_data.drop_duplicates(keep=False)\r\n",
        "    result_data_key_title = pd.merge(left=result_data_key, right=wos_data_filter, left_on=\"KEY\", right_on=\"KEY\")\r\n",
        "    result_full_data = pd.merge(left=result_data_key_title, right=wos_data, left_on=\"Article Title\",\r\n",
        "          right_on=\"Article Title\")\r\n",
        "  elif choice == 2:\r\n",
        "    concat_data = pd.concat([scopus_data_filter_key, result_wos_scopus])\r\n",
        "    result_data_key = concat_data.drop_duplicates(keep=False)\r\n",
        "    result_data_key_title = pd.merge(left=result_data_key, right=scopus_data_filter, left_on=\"KEY\",\r\n",
        "          right_on=\"KEY\")\r\n",
        "    result_full_data = pd.merge(left=result_data_key_title, right=scopus_data, left_on=\" Title\",\r\n",
        "          right_on=\" Title\")\r\n",
        "elif choice == 3:\r\n",
        "  # в список items можно добавить любые столбцы для выделения из таблицы\r\n",
        "  wos_data_filter = wos_data.filter(\r\n",
        "      items=['Publication Type', 'Authors', 'Article Title', 'Publication Year', 'Book Series Title',\r\n",
        "            'Research Areas'])\r\n",
        "  scopus_data_filter = scopus_data.filter(items=[' Title', 'Authors', ' Year'])\r\n",
        "  wos_data_filter['KEY'] = wos_data_filter.apply(\r\n",
        "      lambda x: re.compile('\\W').sub('', x.get(\"Article Title\")).upper(), axis=1)\r\n",
        "  scopus_data_filter['KEY'] = scopus_data_filter.apply(\r\n",
        "      lambda x: re.compile('\\W').sub('', x.get(\" Title\")).upper(), axis=1)\r\n",
        "  result_full_data = pd.merge(left=wos_data_filter, right=scopus_data_filter, left_on=\"KEY\", right_on=\"KEY\")\r\n",
        "\r\n",
        "result_full_data.to_excel(\"result_data.xlsx\", index=False)"
      ],
      "execution_count": 12,
      "outputs": []
    }
  ]
}